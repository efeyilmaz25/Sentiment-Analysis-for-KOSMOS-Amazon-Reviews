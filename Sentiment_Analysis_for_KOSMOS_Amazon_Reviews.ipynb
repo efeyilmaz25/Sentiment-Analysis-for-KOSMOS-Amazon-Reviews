{
  "nbformat": 4,
  "nbformat_minor": 0,
  "metadata": {
    "colab": {
      "provenance": []
    },
    "kernelspec": {
      "name": "python3",
      "display_name": "Python 3"
    },
    "language_info": {
      "name": "python"
    }
  },
  "cells": [
    {
      "cell_type": "markdown",
      "source": [
        "# **What is Natural Language Processing (NLP)**"
      ],
      "metadata": {
        "id": "UGiEZqmugniv"
      }
    },
    {
      "cell_type": "markdown",
      "source": [
        "**Natural Language Processing (NLP);** It is an area where studies are carried out to try to make computers use language in a similar way to humans.\n",
        "\n",
        "A text classification process is quite similar to the data science process. Just as there is data pre-processing after the data acquisition phase in the data science process, **text pre-processing** processes also take place in the **text classification** process. These steps are followed by **text visualization** processes and the application of analyzes on the relevant subject. In addition, if there is a machine learning process, it consists of **feature engineering** and **modeling processes**."
      ],
      "metadata": {
        "id": "VfquTRPgg0e1"
      }
    },
    {
      "cell_type": "markdown",
      "source": [
        "# **Business Problem**"
      ],
      "metadata": {
        "id": "A3jDhDFNiw4b"
      }
    },
    {
      "cell_type": "markdown",
      "source": [
        "**\"KOSMOS\"**, which sells through Amazon and produces home textiles and daily wear, aims to increase its sales by analyzing the comments on its products and improving their features according to the complaints it receives. In line with this goal, the comments will be labeled by sentiment analysis and a classification model will be created with the labeled data."
      ],
      "metadata": {
        "id": "RHriHiCklqmx"
      }
    },
    {
      "cell_type": "markdown",
      "source": [
        "# **Data-Set Story**"
      ],
      "metadata": {
        "id": "Zr6zPeA8muGX"
      }
    },
    {
      "cell_type": "markdown",
      "source": [
        "The data set consists of variables that indicate the comments made on a particular product group, the comment title, the number of stars, and how many people found the comment useful.\n",
        "\n",
        "* **Review:** Comment on the product.\n",
        "\n",
        "* **Title:** Title given to the comment content, short comment.\n",
        "\n",
        "* **HelpFul**: Number of people who found the comment helpful.\n",
        "\n",
        "* **Star:** Number of stars given to the product."
      ],
      "metadata": {
        "id": "WJLYk6famyoR"
      }
    },
    {
      "cell_type": "markdown",
      "source": [
        "# **Tasks**"
      ],
      "metadata": {
        "id": "4lp6u62mnkuT"
      }
    },
    {
      "cell_type": "markdown",
      "source": [
        "**Task 1:** Text preprocessing operations.\n",
        "\n",
        " Step 1: Read the amazon.xlsx data.\n",
        "\n",
        " Step 2: On the \"Review\" variable\n",
        "  * Convert all letters to lowercase\n",
        "  * Remove punctuation marks\n",
        "  * Remove numerical expressions in comments\n",
        "  * Remove words that do not contain information (stopwords) from the data\n",
        "  * Remove words occurring less than 1000 times from the data\n",
        "  * Apply the lemmatization process"
      ],
      "metadata": {
        "id": "FXv9Tt6pnmdG"
      }
    },
    {
      "cell_type": "markdown",
      "source": [
        "**Task 2:** Text Visualization\n",
        "\n",
        "Step 1: Barplot visualization process\n",
        "\n",
        "* Calculate the frequencies of the words contained in the \"Review\" variable and save them as tf.\n",
        "* Rename the columns of the tf dataframe: \"words\" to \"tf\"\n",
        "* Complete the visualization process with barplot by filtering the \"tf\" variable for values ​​greater than 500.\n",
        "\n",
        "Step 2: WordCloud visualization process\n",
        "* Save all the words contained in the \"Review\" variable as a string named \"text\"\n",
        "* Determine and save your template shape using WordCloud\n",
        "* Generate the wordcloud you saved with the string you created in the first step.\n",
        "* Complete the visualization steps. (figure, imshow, axis, show)"
      ],
      "metadata": {
        "id": "x6iwN7B9pICx"
      }
    },
    {
      "cell_type": "markdown",
      "source": [
        "**Task 3:** Sentiment Analysis\n",
        "\n",
        "Step 1: Create the SentimentIntensityAnalyzer object defined in the NLTK package in Python\n",
        "\n",
        "Step 2: Examining polarity scores with the SentimentIntensityAnalyzer object\n",
        "\n",
        "* Calculate polarity_scores() for the first 10 observations of the \"Review\" variable\n",
        "* Observe again by filtering according to compound scores for the first 10 observations examined.\n",
        "* If the compound scores for 10 observations are greater than 0, update it as \"pos\", otherwise \"neg\"\n",
        "* Assign pos-neg to all observations in the \"Review\" variable and add it to the dataframe as a new variable.\n"
      ],
      "metadata": {
        "id": "s6ajNVoCqSfJ"
      }
    },
    {
      "cell_type": "markdown",
      "source": [
        "**Task 4:** Preparing for machine learning\n",
        "\n",
        "Step 1: Separate the data as a train test by determining the dependent and independent variables.\n",
        "\n",
        "Step 2: In order to give data to the machine learning model, we need to convert the representation forms into numerical ones.\n",
        "\n",
        "* Create an object using TfidfVectorizer.\n",
        "* Fit the object we created using the train data we allocated before.\n",
        "* Apply the transform operation to the train and test data of the vector we created and save it."
      ],
      "metadata": {
        "id": "RXDYJ9mnq0iX"
      }
    },
    {
      "cell_type": "markdown",
      "source": [
        "**Task 5:** Modeling (Logistic Regression)\n",
        "\n",
        "Step 1: Build the logistic regression model and fit it with the train data.\n",
        "\n",
        "Step 2: Make predictions with the model you have created.\n",
        "\n",
        "* Predict and save the test data with the Predict function.\n",
        "* Report and observe your prediction results with classification_report.\n",
        "* Calculate the average accuracy value using the cross validation function.\n",
        "\n",
        "Step 3: Ask the model by choosing randomly from the comments in the series.\n",
        "\n",
        "* Select the sample from the \"Review\" variable with the sample function and assign it to a new value.\n",
        "* Vectorize the sample you obtained with CountVectorizer so that the model can predict it.\n",
        "* Save the vectorized sample by performing fit and transform operations.\n",
        "* Record the prediction result by giving the sample to the model you have established.\n",
        "* Print the sample and prediction result on the screen."
      ],
      "metadata": {
        "id": "xTZ9eB82rMUW"
      }
    },
    {
      "cell_type": "markdown",
      "source": [
        "**Task 6:** Modeling (Random Forest)\n",
        "\n",
        "Step 1: Observing the prediction results with the Random Forest model;\n",
        "\n",
        "* Build and fit the RandomForestClassifier model.\n",
        "* Calculate the average accuracy value using the cross validation function\n",
        "* Compare the results with the logistic regression model."
      ],
      "metadata": {
        "id": "qTFe26EcsSOO"
      }
    },
    {
      "cell_type": "markdown",
      "source": [
        "# **Text Pre-processing**"
      ],
      "metadata": {
        "id": "DKrEVFQ-lWml"
      }
    },
    {
      "cell_type": "markdown",
      "source": [
        "We must standardize the texts. In texts where some letters are uppercase and some are lowercase, the first action may be to reduce or enlarge the entire text. This process is called **normalization**. There may also be variables that we would like to exclude from the study. For example: we may want to delete expressions that do not carry any measurement value, such as **numbers**, **punctuation marks** or **stop words** that are commonly used in the language (\"is\", \"that\", \"for\" ...).\n",
        "\n",
        "**Note:** Studies in the field of natural language processing are as closed to generalizations as possible. It may be necessary to keep some expressions in the text within the scope of the subject of interest."
      ],
      "metadata": {
        "id": "PnzDm5tRlhm7"
      }
    },
    {
      "cell_type": "markdown",
      "source": [
        "Let's get started, first we include the libraries we use throughout the project."
      ],
      "metadata": {
        "id": "4IMovicqd8hq"
      }
    },
    {
      "cell_type": "code",
      "source": [
        "import pandas as pd\n",
        "import matplotlib.pyplot as plt\n",
        "\n",
        "from nltk.corpus import stopwords\n",
        "from textblob import Word, TextBlob\n",
        "from nltk.stem import WordNetLemmatizer\n",
        "from wordcloud import WordCloud\n",
        "from nltk.sentiment import SentimentIntensityAnalyzer\n",
        "\n",
        "from sklearn.model_selection import cross_val_score, train_test_split\n",
        "from sklearn.metrics import classification_report\n",
        "from sklearn.feature_extraction.text import TfidfVectorizer, CountVectorizer\n",
        "from sklearn.ensemble import RandomForestClassifier\n",
        "from sklearn.linear_model import LogisticRegression"
      ],
      "metadata": {
        "id": "RnIJvJP2eHgV"
      },
      "execution_count": 41,
      "outputs": []
    },
    {
      "cell_type": "markdown",
      "source": [
        "To avoid seeing some \"warning\" outputs;"
      ],
      "metadata": {
        "id": "3kGjFCBke5o3"
      }
    },
    {
      "cell_type": "code",
      "source": [
        "from warnings import filterwarnings\n",
        "filterwarnings('ignore')"
      ],
      "metadata": {
        "id": "tbyu3_Xme6Ld"
      },
      "execution_count": 42,
      "outputs": []
    },
    {
      "cell_type": "markdown",
      "source": [
        "Let's set certain display options using the Pandas library."
      ],
      "metadata": {
        "id": "3UbAS4Dae-1Q"
      }
    },
    {
      "cell_type": "code",
      "source": [
        "pd.set_option('display.max_columns', None)\n",
        "pd.set_option('display.width', 500)\n",
        "pd.set_option('display.float_format', lambda x: '%.3f' % x)"
      ],
      "metadata": {
        "id": "ZgPbf79rfEPB"
      },
      "execution_count": 43,
      "outputs": []
    },
    {
      "cell_type": "markdown",
      "source": [
        "Let's read our relevant dataset and create a pandas dataframe."
      ],
      "metadata": {
        "id": "sz67FlQ2fOrv"
      }
    },
    {
      "cell_type": "code",
      "source": [
        "from google.colab import drive\n",
        "drive.mount('/content/drive')\n",
        "\n",
        "df = pd.read_excel(\"/content/drive/MyDrive/Colab Notebooks/amazon.xlsx\", engine='openpyxl')"
      ],
      "metadata": {
        "colab": {
          "base_uri": "https://localhost:8080/"
        },
        "id": "To4Gy9P5fQIa",
        "outputId": "a7ea80f3-3619-4405-b6fe-36b78aceeeda"
      },
      "execution_count": 44,
      "outputs": [
        {
          "output_type": "stream",
          "name": "stdout",
          "text": [
            "Drive already mounted at /content/drive; to attempt to forcibly remount, call drive.mount(\"/content/drive\", force_remount=True).\n"
          ]
        }
      ]
    },
    {
      "cell_type": "code",
      "source": [
        "df.shape"
      ],
      "metadata": {
        "colab": {
          "base_uri": "https://localhost:8080/"
        },
        "id": "smhcttaIjfaU",
        "outputId": "498b0d17-ac64-4c25-9ea3-a34fe1f6e69f"
      },
      "execution_count": 45,
      "outputs": [
        {
          "output_type": "execute_result",
          "data": {
            "text/plain": [
              "(5611, 4)"
            ]
          },
          "metadata": {},
          "execution_count": 45
        }
      ]
    },
    {
      "cell_type": "code",
      "source": [
        "df.info()"
      ],
      "metadata": {
        "colab": {
          "base_uri": "https://localhost:8080/"
        },
        "id": "He8Km6e7jiPp",
        "outputId": "fbb4c44b-f22f-47a7-8a82-459b68e17c4a"
      },
      "execution_count": 46,
      "outputs": [
        {
          "output_type": "stream",
          "name": "stdout",
          "text": [
            "<class 'pandas.core.frame.DataFrame'>\n",
            "RangeIndex: 5611 entries, 0 to 5610\n",
            "Data columns (total 4 columns):\n",
            " #   Column   Non-Null Count  Dtype \n",
            "---  ------   --------------  ----- \n",
            " 0   Star     5611 non-null   int64 \n",
            " 1   HelpFul  5611 non-null   int64 \n",
            " 2   Title    5559 non-null   object\n",
            " 3   Review   5593 non-null   object\n",
            "dtypes: int64(2), object(2)\n",
            "memory usage: 175.5+ KB\n"
          ]
        }
      ]
    },
    {
      "cell_type": "code",
      "source": [
        "df.head()"
      ],
      "metadata": {
        "colab": {
          "base_uri": "https://localhost:8080/",
          "height": 0
        },
        "id": "e6tuoxbrjkN9",
        "outputId": "6b1395b2-47d4-4c2f-e161-9d2fac7bf617"
      },
      "execution_count": 47,
      "outputs": [
        {
          "output_type": "execute_result",
          "data": {
            "text/plain": [
              "   Star  HelpFul                                          Title                                             Review\n",
              "0     5        0                                    looks great                                      Happy with it\n",
              "1     5        0  Pattern did not align between the two panels.  Good quality material however the panels are m...\n",
              "2     5        0               Imagery is stretched. Still fun.  Product was fun for bedroom windows.<br />Imag...\n",
              "3     5        0                 Que se ven elegantes muy finas   Lo unico que me gustaria es que sean un poco ...\n",
              "4     5        0                             Wow great purchase  Great bang for the buck I can't believe the qu..."
            ],
            "text/html": [
              "\n",
              "  <div id=\"df-d1783a6a-51ed-4a0c-b280-ad7e0fda2eaa\" class=\"colab-df-container\">\n",
              "    <div>\n",
              "<style scoped>\n",
              "    .dataframe tbody tr th:only-of-type {\n",
              "        vertical-align: middle;\n",
              "    }\n",
              "\n",
              "    .dataframe tbody tr th {\n",
              "        vertical-align: top;\n",
              "    }\n",
              "\n",
              "    .dataframe thead th {\n",
              "        text-align: right;\n",
              "    }\n",
              "</style>\n",
              "<table border=\"1\" class=\"dataframe\">\n",
              "  <thead>\n",
              "    <tr style=\"text-align: right;\">\n",
              "      <th></th>\n",
              "      <th>Star</th>\n",
              "      <th>HelpFul</th>\n",
              "      <th>Title</th>\n",
              "      <th>Review</th>\n",
              "    </tr>\n",
              "  </thead>\n",
              "  <tbody>\n",
              "    <tr>\n",
              "      <th>0</th>\n",
              "      <td>5</td>\n",
              "      <td>0</td>\n",
              "      <td>looks great</td>\n",
              "      <td>Happy with it</td>\n",
              "    </tr>\n",
              "    <tr>\n",
              "      <th>1</th>\n",
              "      <td>5</td>\n",
              "      <td>0</td>\n",
              "      <td>Pattern did not align between the two panels.</td>\n",
              "      <td>Good quality material however the panels are m...</td>\n",
              "    </tr>\n",
              "    <tr>\n",
              "      <th>2</th>\n",
              "      <td>5</td>\n",
              "      <td>0</td>\n",
              "      <td>Imagery is stretched. Still fun.</td>\n",
              "      <td>Product was fun for bedroom windows.&lt;br /&gt;Imag...</td>\n",
              "    </tr>\n",
              "    <tr>\n",
              "      <th>3</th>\n",
              "      <td>5</td>\n",
              "      <td>0</td>\n",
              "      <td>Que se ven elegantes muy finas</td>\n",
              "      <td>Lo unico que me gustaria es que sean un poco ...</td>\n",
              "    </tr>\n",
              "    <tr>\n",
              "      <th>4</th>\n",
              "      <td>5</td>\n",
              "      <td>0</td>\n",
              "      <td>Wow great purchase</td>\n",
              "      <td>Great bang for the buck I can't believe the qu...</td>\n",
              "    </tr>\n",
              "  </tbody>\n",
              "</table>\n",
              "</div>\n",
              "    <div class=\"colab-df-buttons\">\n",
              "\n",
              "  <div class=\"colab-df-container\">\n",
              "    <button class=\"colab-df-convert\" onclick=\"convertToInteractive('df-d1783a6a-51ed-4a0c-b280-ad7e0fda2eaa')\"\n",
              "            title=\"Convert this dataframe to an interactive table.\"\n",
              "            style=\"display:none;\">\n",
              "\n",
              "  <svg xmlns=\"http://www.w3.org/2000/svg\" height=\"24px\" viewBox=\"0 -960 960 960\">\n",
              "    <path d=\"M120-120v-720h720v720H120Zm60-500h600v-160H180v160Zm220 220h160v-160H400v160Zm0 220h160v-160H400v160ZM180-400h160v-160H180v160Zm440 0h160v-160H620v160ZM180-180h160v-160H180v160Zm440 0h160v-160H620v160Z\"/>\n",
              "  </svg>\n",
              "    </button>\n",
              "\n",
              "  <style>\n",
              "    .colab-df-container {\n",
              "      display:flex;\n",
              "      gap: 12px;\n",
              "    }\n",
              "\n",
              "    .colab-df-convert {\n",
              "      background-color: #E8F0FE;\n",
              "      border: none;\n",
              "      border-radius: 50%;\n",
              "      cursor: pointer;\n",
              "      display: none;\n",
              "      fill: #1967D2;\n",
              "      height: 32px;\n",
              "      padding: 0 0 0 0;\n",
              "      width: 32px;\n",
              "    }\n",
              "\n",
              "    .colab-df-convert:hover {\n",
              "      background-color: #E2EBFA;\n",
              "      box-shadow: 0px 1px 2px rgba(60, 64, 67, 0.3), 0px 1px 3px 1px rgba(60, 64, 67, 0.15);\n",
              "      fill: #174EA6;\n",
              "    }\n",
              "\n",
              "    .colab-df-buttons div {\n",
              "      margin-bottom: 4px;\n",
              "    }\n",
              "\n",
              "    [theme=dark] .colab-df-convert {\n",
              "      background-color: #3B4455;\n",
              "      fill: #D2E3FC;\n",
              "    }\n",
              "\n",
              "    [theme=dark] .colab-df-convert:hover {\n",
              "      background-color: #434B5C;\n",
              "      box-shadow: 0px 1px 3px 1px rgba(0, 0, 0, 0.15);\n",
              "      filter: drop-shadow(0px 1px 2px rgba(0, 0, 0, 0.3));\n",
              "      fill: #FFFFFF;\n",
              "    }\n",
              "  </style>\n",
              "\n",
              "    <script>\n",
              "      const buttonEl =\n",
              "        document.querySelector('#df-d1783a6a-51ed-4a0c-b280-ad7e0fda2eaa button.colab-df-convert');\n",
              "      buttonEl.style.display =\n",
              "        google.colab.kernel.accessAllowed ? 'block' : 'none';\n",
              "\n",
              "      async function convertToInteractive(key) {\n",
              "        const element = document.querySelector('#df-d1783a6a-51ed-4a0c-b280-ad7e0fda2eaa');\n",
              "        const dataTable =\n",
              "          await google.colab.kernel.invokeFunction('convertToInteractive',\n",
              "                                                    [key], {});\n",
              "        if (!dataTable) return;\n",
              "\n",
              "        const docLinkHtml = 'Like what you see? Visit the ' +\n",
              "          '<a target=\"_blank\" href=https://colab.research.google.com/notebooks/data_table.ipynb>data table notebook</a>'\n",
              "          + ' to learn more about interactive tables.';\n",
              "        element.innerHTML = '';\n",
              "        dataTable['output_type'] = 'display_data';\n",
              "        await google.colab.output.renderOutput(dataTable, element);\n",
              "        const docLink = document.createElement('div');\n",
              "        docLink.innerHTML = docLinkHtml;\n",
              "        element.appendChild(docLink);\n",
              "      }\n",
              "    </script>\n",
              "  </div>\n",
              "\n",
              "\n",
              "<div id=\"df-efc2e73f-87d0-418f-a387-f881e5c5441f\">\n",
              "  <button class=\"colab-df-quickchart\" onclick=\"quickchart('df-efc2e73f-87d0-418f-a387-f881e5c5441f')\"\n",
              "            title=\"Suggest charts\"\n",
              "            style=\"display:none;\">\n",
              "\n",
              "<svg xmlns=\"http://www.w3.org/2000/svg\" height=\"24px\"viewBox=\"0 0 24 24\"\n",
              "     width=\"24px\">\n",
              "    <g>\n",
              "        <path d=\"M19 3H5c-1.1 0-2 .9-2 2v14c0 1.1.9 2 2 2h14c1.1 0 2-.9 2-2V5c0-1.1-.9-2-2-2zM9 17H7v-7h2v7zm4 0h-2V7h2v10zm4 0h-2v-4h2v4z\"/>\n",
              "    </g>\n",
              "</svg>\n",
              "  </button>\n",
              "\n",
              "<style>\n",
              "  .colab-df-quickchart {\n",
              "      --bg-color: #E8F0FE;\n",
              "      --fill-color: #1967D2;\n",
              "      --hover-bg-color: #E2EBFA;\n",
              "      --hover-fill-color: #174EA6;\n",
              "      --disabled-fill-color: #AAA;\n",
              "      --disabled-bg-color: #DDD;\n",
              "  }\n",
              "\n",
              "  [theme=dark] .colab-df-quickchart {\n",
              "      --bg-color: #3B4455;\n",
              "      --fill-color: #D2E3FC;\n",
              "      --hover-bg-color: #434B5C;\n",
              "      --hover-fill-color: #FFFFFF;\n",
              "      --disabled-bg-color: #3B4455;\n",
              "      --disabled-fill-color: #666;\n",
              "  }\n",
              "\n",
              "  .colab-df-quickchart {\n",
              "    background-color: var(--bg-color);\n",
              "    border: none;\n",
              "    border-radius: 50%;\n",
              "    cursor: pointer;\n",
              "    display: none;\n",
              "    fill: var(--fill-color);\n",
              "    height: 32px;\n",
              "    padding: 0;\n",
              "    width: 32px;\n",
              "  }\n",
              "\n",
              "  .colab-df-quickchart:hover {\n",
              "    background-color: var(--hover-bg-color);\n",
              "    box-shadow: 0 1px 2px rgba(60, 64, 67, 0.3), 0 1px 3px 1px rgba(60, 64, 67, 0.15);\n",
              "    fill: var(--button-hover-fill-color);\n",
              "  }\n",
              "\n",
              "  .colab-df-quickchart-complete:disabled,\n",
              "  .colab-df-quickchart-complete:disabled:hover {\n",
              "    background-color: var(--disabled-bg-color);\n",
              "    fill: var(--disabled-fill-color);\n",
              "    box-shadow: none;\n",
              "  }\n",
              "\n",
              "  .colab-df-spinner {\n",
              "    border: 2px solid var(--fill-color);\n",
              "    border-color: transparent;\n",
              "    border-bottom-color: var(--fill-color);\n",
              "    animation:\n",
              "      spin 1s steps(1) infinite;\n",
              "  }\n",
              "\n",
              "  @keyframes spin {\n",
              "    0% {\n",
              "      border-color: transparent;\n",
              "      border-bottom-color: var(--fill-color);\n",
              "      border-left-color: var(--fill-color);\n",
              "    }\n",
              "    20% {\n",
              "      border-color: transparent;\n",
              "      border-left-color: var(--fill-color);\n",
              "      border-top-color: var(--fill-color);\n",
              "    }\n",
              "    30% {\n",
              "      border-color: transparent;\n",
              "      border-left-color: var(--fill-color);\n",
              "      border-top-color: var(--fill-color);\n",
              "      border-right-color: var(--fill-color);\n",
              "    }\n",
              "    40% {\n",
              "      border-color: transparent;\n",
              "      border-right-color: var(--fill-color);\n",
              "      border-top-color: var(--fill-color);\n",
              "    }\n",
              "    60% {\n",
              "      border-color: transparent;\n",
              "      border-right-color: var(--fill-color);\n",
              "    }\n",
              "    80% {\n",
              "      border-color: transparent;\n",
              "      border-right-color: var(--fill-color);\n",
              "      border-bottom-color: var(--fill-color);\n",
              "    }\n",
              "    90% {\n",
              "      border-color: transparent;\n",
              "      border-bottom-color: var(--fill-color);\n",
              "    }\n",
              "  }\n",
              "</style>\n",
              "\n",
              "  <script>\n",
              "    async function quickchart(key) {\n",
              "      const quickchartButtonEl =\n",
              "        document.querySelector('#' + key + ' button');\n",
              "      quickchartButtonEl.disabled = true;  // To prevent multiple clicks.\n",
              "      quickchartButtonEl.classList.add('colab-df-spinner');\n",
              "      try {\n",
              "        const charts = await google.colab.kernel.invokeFunction(\n",
              "            'suggestCharts', [key], {});\n",
              "      } catch (error) {\n",
              "        console.error('Error during call to suggestCharts:', error);\n",
              "      }\n",
              "      quickchartButtonEl.classList.remove('colab-df-spinner');\n",
              "      quickchartButtonEl.classList.add('colab-df-quickchart-complete');\n",
              "    }\n",
              "    (() => {\n",
              "      let quickchartButtonEl =\n",
              "        document.querySelector('#df-efc2e73f-87d0-418f-a387-f881e5c5441f button');\n",
              "      quickchartButtonEl.style.display =\n",
              "        google.colab.kernel.accessAllowed ? 'block' : 'none';\n",
              "    })();\n",
              "  </script>\n",
              "</div>\n",
              "\n",
              "    </div>\n",
              "  </div>\n"
            ],
            "application/vnd.google.colaboratory.intrinsic+json": {
              "type": "dataframe",
              "variable_name": "df",
              "summary": "{\n  \"name\": \"df\",\n  \"rows\": 5611,\n  \"fields\": [\n    {\n      \"column\": \"Star\",\n      \"properties\": {\n        \"dtype\": \"number\",\n        \"std\": 1,\n        \"min\": 1,\n        \"max\": 5,\n        \"num_unique_values\": 5,\n        \"samples\": [\n          4,\n          2,\n          3\n        ],\n        \"semantic_type\": \"\",\n        \"description\": \"\"\n      }\n    },\n    {\n      \"column\": \"HelpFul\",\n      \"properties\": {\n        \"dtype\": \"number\",\n        \"std\": 4,\n        \"min\": 0,\n        \"max\": 124,\n        \"num_unique_values\": 47,\n        \"samples\": [\n          11,\n          28,\n          37\n        ],\n        \"semantic_type\": \"\",\n        \"description\": \"\"\n      }\n    },\n    {\n      \"column\": \"Title\",\n      \"properties\": {\n        \"dtype\": \"string\",\n        \"num_unique_values\": 3846,\n        \"samples\": [\n          \"Like the picture\",\n          \"Happy\",\n          \"Elegant\"\n        ],\n        \"semantic_type\": \"\",\n        \"description\": \"\"\n      }\n    },\n    {\n      \"column\": \"Review\",\n      \"properties\": {\n        \"dtype\": \"string\",\n        \"num_unique_values\": 5337,\n        \"samples\": [\n          \"It came with a big stain on the back which I had not realized originally\",\n          \"I like the weight of these curtains; they block some of the street light in my bedroom.\",\n          \"Great product for reasonable money.  Delivered quickly.  At each stage of delivery, the seller sent SMS.  Recommend.\"\n        ],\n        \"semantic_type\": \"\",\n        \"description\": \"\"\n      }\n    }\n  ]\n}"
            }
          },
          "metadata": {},
          "execution_count": 47
        }
      ]
    },
    {
      "cell_type": "markdown",
      "source": [
        "Let's apply the normalization process."
      ],
      "metadata": {
        "id": "OTk22_1sjxRV"
      }
    },
    {
      "cell_type": "code",
      "source": [
        "df['Review'] = df['Review'].str.lower()"
      ],
      "metadata": {
        "id": "RL1jMbklnZw-"
      },
      "execution_count": 48,
      "outputs": []
    },
    {
      "cell_type": "markdown",
      "source": [
        "Let's continue by removing the **punctuation marks**. This can be done by writing **regular expression**. By hovering over the texts, we can inform them that a string expression is a punctuation mark and replace the points we capture with spaces.\n",
        "\n",
        "**Regular expression** is a special structure used for pattern matching in textual expressions, that is, to capture and work on a certain pattern."
      ],
      "metadata": {
        "id": "CNl1Xyfsoace"
      }
    },
    {
      "cell_type": "code",
      "source": [
        "df['Review'] = df['Review'].str.replace('[^\\w\\s]', '')"
      ],
      "metadata": {
        "id": "IcDApFjKosPD"
      },
      "execution_count": 49,
      "outputs": []
    },
    {
      "cell_type": "markdown",
      "source": [
        "Now let's continue with the **numbers**. Since the numbers are assumed to have no measurement value, they must be discarded.\n",
        "\n",
        "**Note:** In terms of the features you will derive specifically for the work you are doing, features such as the abundance of numerical expressions in certain texts may have various distinctiveness."
      ],
      "metadata": {
        "id": "osgJ5GUtoy1d"
      }
    },
    {
      "cell_type": "code",
      "source": [
        "df['Review'] = df['Review'].str.replace('\\d', '')"
      ],
      "metadata": {
        "id": "rOX9zLAUprPQ"
      },
      "execution_count": 50,
      "outputs": []
    },
    {
      "cell_type": "markdown",
      "source": [
        "**\"Stop words\"** refer to words that have no meaning and are commonly used in the language. It means deleting expressions such as \"for\", \"is\", \"the\", \"or\" ... since they do not have a measurement value."
      ],
      "metadata": {
        "id": "k_SI5zP1pxtP"
      }
    },
    {
      "cell_type": "code",
      "source": [
        "import nltk\n",
        "nltk.download('stopwords')\n",
        "stopwords = stopwords.words('english')\n",
        "df['Review'] = df['Review'].apply(lambda x: \" \".join(x for x in str(x).split() if x not in stopwords))"
      ],
      "metadata": {
        "colab": {
          "base_uri": "https://localhost:8080/"
        },
        "id": "NDeWoOcgqyFM",
        "outputId": "9154498b-7481-4aa8-9449-1e0430fcfa0f"
      },
      "execution_count": 51,
      "outputs": [
        {
          "output_type": "stream",
          "name": "stderr",
          "text": [
            "[nltk_data] Downloading package stopwords to /root/nltk_data...\n",
            "[nltk_data]   Package stopwords is already up-to-date!\n"
          ]
        }
      ]
    },
    {
      "cell_type": "markdown",
      "source": [
        "Now we can deal with the removal of **rare words**. This process may not be included in the general NLP flow. When we focus on words to perform modeling operations, it is generally undesirable to keep rarely mentioned words in the study. Our aim is to exclude words that occur rarely in the relevant text, assuming that they will not form a certain pattern."
      ],
      "metadata": {
        "id": "n5HWeO-srB9K"
      }
    },
    {
      "cell_type": "code",
      "source": [
        "delete = pd.Series(' '.join(df['Review']).split()).value_counts()[-1000:]\n",
        "df['Review'] = df['Review'].apply(lambda x: \" \".join(x for x in x.split() if x not in delete))"
      ],
      "metadata": {
        "id": "ltCPD1CArl9r"
      },
      "execution_count": 52,
      "outputs": []
    },
    {
      "cell_type": "markdown",
      "source": [
        "For this part, we can finally deal with the process of separating words into their roots. For example, it is the elimination of the 's suffixes at the end of words. If we consider the issue from a Turkish perspective; It is the process of reducing the words \"kitapçı\", \"kitaplık\" and \"kitaplar\" to the word \"kitap\"."
      ],
      "metadata": {
        "id": "oD9OiGY7sHDm"
      }
    },
    {
      "cell_type": "code",
      "source": [
        "nltk.download('wordnet')\n",
        "df['Review'] = df['Review'].apply(lambda x: \" \".join([Word(word).lemmatize() for word in x.split()]))"
      ],
      "metadata": {
        "colab": {
          "base_uri": "https://localhost:8080/"
        },
        "id": "DfuP0_D0uABF",
        "outputId": "d6823982-662d-461b-92a0-9f8ee2311fda"
      },
      "execution_count": 53,
      "outputs": [
        {
          "output_type": "stream",
          "name": "stderr",
          "text": [
            "[nltk_data] Downloading package wordnet to /root/nltk_data...\n",
            "[nltk_data]   Package wordnet is already up-to-date!\n"
          ]
        }
      ]
    },
    {
      "cell_type": "markdown",
      "source": [
        "As a result of these operations, let's examine the first 10 observations of our data set."
      ],
      "metadata": {
        "id": "LykWV-mHuOnA"
      }
    },
    {
      "cell_type": "code",
      "source": [
        "df.head(10)"
      ],
      "metadata": {
        "colab": {
          "base_uri": "https://localhost:8080/",
          "height": 0
        },
        "id": "oTla2CxWuPLY",
        "outputId": "ca1238c1-1abd-4add-eb90-a091a23b4c4a"
      },
      "execution_count": 54,
      "outputs": [
        {
          "output_type": "execute_result",
          "data": {
            "text/plain": [
              "   Star  HelpFul                                          Title                                             Review\n",
              "0     5        0                                    looks great                                              happy\n",
              "1     5        0  Pattern did not align between the two panels.   good quality material however panel mis-matched.\n",
              "2     5        0               Imagery is stretched. Still fun.  product fun bedroom windows.<br />imagery bit ...\n",
              "3     5        0                 Que se ven elegantes muy finas  lo unico que gustaria e que sean un poco ma la...\n",
              "4     5        0                             Wow great purchase  great bang buck can't believe quality material...\n",
              "5     5        0                                     Not for us                               look different photo\n",
              "6     5        0                           Perfect for spa room  exactly looking for. heavy material. great pri...\n",
              "7     5        0                  Actually better than expected  looking picture, thought curtain would thinner...\n",
              "8     4        0                              Not what expected  much whiter thought would wasn’t really expect...\n",
              "9     5        0                            Pretty as a Picture  curtain picture shows. 3rd set ambesonne curta..."
            ],
            "text/html": [
              "\n",
              "  <div id=\"df-70c019e1-081f-426a-adf0-b4b0483cea80\" class=\"colab-df-container\">\n",
              "    <div>\n",
              "<style scoped>\n",
              "    .dataframe tbody tr th:only-of-type {\n",
              "        vertical-align: middle;\n",
              "    }\n",
              "\n",
              "    .dataframe tbody tr th {\n",
              "        vertical-align: top;\n",
              "    }\n",
              "\n",
              "    .dataframe thead th {\n",
              "        text-align: right;\n",
              "    }\n",
              "</style>\n",
              "<table border=\"1\" class=\"dataframe\">\n",
              "  <thead>\n",
              "    <tr style=\"text-align: right;\">\n",
              "      <th></th>\n",
              "      <th>Star</th>\n",
              "      <th>HelpFul</th>\n",
              "      <th>Title</th>\n",
              "      <th>Review</th>\n",
              "    </tr>\n",
              "  </thead>\n",
              "  <tbody>\n",
              "    <tr>\n",
              "      <th>0</th>\n",
              "      <td>5</td>\n",
              "      <td>0</td>\n",
              "      <td>looks great</td>\n",
              "      <td>happy</td>\n",
              "    </tr>\n",
              "    <tr>\n",
              "      <th>1</th>\n",
              "      <td>5</td>\n",
              "      <td>0</td>\n",
              "      <td>Pattern did not align between the two panels.</td>\n",
              "      <td>good quality material however panel mis-matched.</td>\n",
              "    </tr>\n",
              "    <tr>\n",
              "      <th>2</th>\n",
              "      <td>5</td>\n",
              "      <td>0</td>\n",
              "      <td>Imagery is stretched. Still fun.</td>\n",
              "      <td>product fun bedroom windows.&lt;br /&gt;imagery bit ...</td>\n",
              "    </tr>\n",
              "    <tr>\n",
              "      <th>3</th>\n",
              "      <td>5</td>\n",
              "      <td>0</td>\n",
              "      <td>Que se ven elegantes muy finas</td>\n",
              "      <td>lo unico que gustaria e que sean un poco ma la...</td>\n",
              "    </tr>\n",
              "    <tr>\n",
              "      <th>4</th>\n",
              "      <td>5</td>\n",
              "      <td>0</td>\n",
              "      <td>Wow great purchase</td>\n",
              "      <td>great bang buck can't believe quality material...</td>\n",
              "    </tr>\n",
              "    <tr>\n",
              "      <th>5</th>\n",
              "      <td>5</td>\n",
              "      <td>0</td>\n",
              "      <td>Not for us</td>\n",
              "      <td>look different photo</td>\n",
              "    </tr>\n",
              "    <tr>\n",
              "      <th>6</th>\n",
              "      <td>5</td>\n",
              "      <td>0</td>\n",
              "      <td>Perfect for spa room</td>\n",
              "      <td>exactly looking for. heavy material. great pri...</td>\n",
              "    </tr>\n",
              "    <tr>\n",
              "      <th>7</th>\n",
              "      <td>5</td>\n",
              "      <td>0</td>\n",
              "      <td>Actually better than expected</td>\n",
              "      <td>looking picture, thought curtain would thinner...</td>\n",
              "    </tr>\n",
              "    <tr>\n",
              "      <th>8</th>\n",
              "      <td>4</td>\n",
              "      <td>0</td>\n",
              "      <td>Not what expected</td>\n",
              "      <td>much whiter thought would wasn’t really expect...</td>\n",
              "    </tr>\n",
              "    <tr>\n",
              "      <th>9</th>\n",
              "      <td>5</td>\n",
              "      <td>0</td>\n",
              "      <td>Pretty as a Picture</td>\n",
              "      <td>curtain picture shows. 3rd set ambesonne curta...</td>\n",
              "    </tr>\n",
              "  </tbody>\n",
              "</table>\n",
              "</div>\n",
              "    <div class=\"colab-df-buttons\">\n",
              "\n",
              "  <div class=\"colab-df-container\">\n",
              "    <button class=\"colab-df-convert\" onclick=\"convertToInteractive('df-70c019e1-081f-426a-adf0-b4b0483cea80')\"\n",
              "            title=\"Convert this dataframe to an interactive table.\"\n",
              "            style=\"display:none;\">\n",
              "\n",
              "  <svg xmlns=\"http://www.w3.org/2000/svg\" height=\"24px\" viewBox=\"0 -960 960 960\">\n",
              "    <path d=\"M120-120v-720h720v720H120Zm60-500h600v-160H180v160Zm220 220h160v-160H400v160Zm0 220h160v-160H400v160ZM180-400h160v-160H180v160Zm440 0h160v-160H620v160ZM180-180h160v-160H180v160Zm440 0h160v-160H620v160Z\"/>\n",
              "  </svg>\n",
              "    </button>\n",
              "\n",
              "  <style>\n",
              "    .colab-df-container {\n",
              "      display:flex;\n",
              "      gap: 12px;\n",
              "    }\n",
              "\n",
              "    .colab-df-convert {\n",
              "      background-color: #E8F0FE;\n",
              "      border: none;\n",
              "      border-radius: 50%;\n",
              "      cursor: pointer;\n",
              "      display: none;\n",
              "      fill: #1967D2;\n",
              "      height: 32px;\n",
              "      padding: 0 0 0 0;\n",
              "      width: 32px;\n",
              "    }\n",
              "\n",
              "    .colab-df-convert:hover {\n",
              "      background-color: #E2EBFA;\n",
              "      box-shadow: 0px 1px 2px rgba(60, 64, 67, 0.3), 0px 1px 3px 1px rgba(60, 64, 67, 0.15);\n",
              "      fill: #174EA6;\n",
              "    }\n",
              "\n",
              "    .colab-df-buttons div {\n",
              "      margin-bottom: 4px;\n",
              "    }\n",
              "\n",
              "    [theme=dark] .colab-df-convert {\n",
              "      background-color: #3B4455;\n",
              "      fill: #D2E3FC;\n",
              "    }\n",
              "\n",
              "    [theme=dark] .colab-df-convert:hover {\n",
              "      background-color: #434B5C;\n",
              "      box-shadow: 0px 1px 3px 1px rgba(0, 0, 0, 0.15);\n",
              "      filter: drop-shadow(0px 1px 2px rgba(0, 0, 0, 0.3));\n",
              "      fill: #FFFFFF;\n",
              "    }\n",
              "  </style>\n",
              "\n",
              "    <script>\n",
              "      const buttonEl =\n",
              "        document.querySelector('#df-70c019e1-081f-426a-adf0-b4b0483cea80 button.colab-df-convert');\n",
              "      buttonEl.style.display =\n",
              "        google.colab.kernel.accessAllowed ? 'block' : 'none';\n",
              "\n",
              "      async function convertToInteractive(key) {\n",
              "        const element = document.querySelector('#df-70c019e1-081f-426a-adf0-b4b0483cea80');\n",
              "        const dataTable =\n",
              "          await google.colab.kernel.invokeFunction('convertToInteractive',\n",
              "                                                    [key], {});\n",
              "        if (!dataTable) return;\n",
              "\n",
              "        const docLinkHtml = 'Like what you see? Visit the ' +\n",
              "          '<a target=\"_blank\" href=https://colab.research.google.com/notebooks/data_table.ipynb>data table notebook</a>'\n",
              "          + ' to learn more about interactive tables.';\n",
              "        element.innerHTML = '';\n",
              "        dataTable['output_type'] = 'display_data';\n",
              "        await google.colab.output.renderOutput(dataTable, element);\n",
              "        const docLink = document.createElement('div');\n",
              "        docLink.innerHTML = docLinkHtml;\n",
              "        element.appendChild(docLink);\n",
              "      }\n",
              "    </script>\n",
              "  </div>\n",
              "\n",
              "\n",
              "<div id=\"df-0cc03fd2-307b-4e48-a8e7-3c1d1ee57c6b\">\n",
              "  <button class=\"colab-df-quickchart\" onclick=\"quickchart('df-0cc03fd2-307b-4e48-a8e7-3c1d1ee57c6b')\"\n",
              "            title=\"Suggest charts\"\n",
              "            style=\"display:none;\">\n",
              "\n",
              "<svg xmlns=\"http://www.w3.org/2000/svg\" height=\"24px\"viewBox=\"0 0 24 24\"\n",
              "     width=\"24px\">\n",
              "    <g>\n",
              "        <path d=\"M19 3H5c-1.1 0-2 .9-2 2v14c0 1.1.9 2 2 2h14c1.1 0 2-.9 2-2V5c0-1.1-.9-2-2-2zM9 17H7v-7h2v7zm4 0h-2V7h2v10zm4 0h-2v-4h2v4z\"/>\n",
              "    </g>\n",
              "</svg>\n",
              "  </button>\n",
              "\n",
              "<style>\n",
              "  .colab-df-quickchart {\n",
              "      --bg-color: #E8F0FE;\n",
              "      --fill-color: #1967D2;\n",
              "      --hover-bg-color: #E2EBFA;\n",
              "      --hover-fill-color: #174EA6;\n",
              "      --disabled-fill-color: #AAA;\n",
              "      --disabled-bg-color: #DDD;\n",
              "  }\n",
              "\n",
              "  [theme=dark] .colab-df-quickchart {\n",
              "      --bg-color: #3B4455;\n",
              "      --fill-color: #D2E3FC;\n",
              "      --hover-bg-color: #434B5C;\n",
              "      --hover-fill-color: #FFFFFF;\n",
              "      --disabled-bg-color: #3B4455;\n",
              "      --disabled-fill-color: #666;\n",
              "  }\n",
              "\n",
              "  .colab-df-quickchart {\n",
              "    background-color: var(--bg-color);\n",
              "    border: none;\n",
              "    border-radius: 50%;\n",
              "    cursor: pointer;\n",
              "    display: none;\n",
              "    fill: var(--fill-color);\n",
              "    height: 32px;\n",
              "    padding: 0;\n",
              "    width: 32px;\n",
              "  }\n",
              "\n",
              "  .colab-df-quickchart:hover {\n",
              "    background-color: var(--hover-bg-color);\n",
              "    box-shadow: 0 1px 2px rgba(60, 64, 67, 0.3), 0 1px 3px 1px rgba(60, 64, 67, 0.15);\n",
              "    fill: var(--button-hover-fill-color);\n",
              "  }\n",
              "\n",
              "  .colab-df-quickchart-complete:disabled,\n",
              "  .colab-df-quickchart-complete:disabled:hover {\n",
              "    background-color: var(--disabled-bg-color);\n",
              "    fill: var(--disabled-fill-color);\n",
              "    box-shadow: none;\n",
              "  }\n",
              "\n",
              "  .colab-df-spinner {\n",
              "    border: 2px solid var(--fill-color);\n",
              "    border-color: transparent;\n",
              "    border-bottom-color: var(--fill-color);\n",
              "    animation:\n",
              "      spin 1s steps(1) infinite;\n",
              "  }\n",
              "\n",
              "  @keyframes spin {\n",
              "    0% {\n",
              "      border-color: transparent;\n",
              "      border-bottom-color: var(--fill-color);\n",
              "      border-left-color: var(--fill-color);\n",
              "    }\n",
              "    20% {\n",
              "      border-color: transparent;\n",
              "      border-left-color: var(--fill-color);\n",
              "      border-top-color: var(--fill-color);\n",
              "    }\n",
              "    30% {\n",
              "      border-color: transparent;\n",
              "      border-left-color: var(--fill-color);\n",
              "      border-top-color: var(--fill-color);\n",
              "      border-right-color: var(--fill-color);\n",
              "    }\n",
              "    40% {\n",
              "      border-color: transparent;\n",
              "      border-right-color: var(--fill-color);\n",
              "      border-top-color: var(--fill-color);\n",
              "    }\n",
              "    60% {\n",
              "      border-color: transparent;\n",
              "      border-right-color: var(--fill-color);\n",
              "    }\n",
              "    80% {\n",
              "      border-color: transparent;\n",
              "      border-right-color: var(--fill-color);\n",
              "      border-bottom-color: var(--fill-color);\n",
              "    }\n",
              "    90% {\n",
              "      border-color: transparent;\n",
              "      border-bottom-color: var(--fill-color);\n",
              "    }\n",
              "  }\n",
              "</style>\n",
              "\n",
              "  <script>\n",
              "    async function quickchart(key) {\n",
              "      const quickchartButtonEl =\n",
              "        document.querySelector('#' + key + ' button');\n",
              "      quickchartButtonEl.disabled = true;  // To prevent multiple clicks.\n",
              "      quickchartButtonEl.classList.add('colab-df-spinner');\n",
              "      try {\n",
              "        const charts = await google.colab.kernel.invokeFunction(\n",
              "            'suggestCharts', [key], {});\n",
              "      } catch (error) {\n",
              "        console.error('Error during call to suggestCharts:', error);\n",
              "      }\n",
              "      quickchartButtonEl.classList.remove('colab-df-spinner');\n",
              "      quickchartButtonEl.classList.add('colab-df-quickchart-complete');\n",
              "    }\n",
              "    (() => {\n",
              "      let quickchartButtonEl =\n",
              "        document.querySelector('#df-0cc03fd2-307b-4e48-a8e7-3c1d1ee57c6b button');\n",
              "      quickchartButtonEl.style.display =\n",
              "        google.colab.kernel.accessAllowed ? 'block' : 'none';\n",
              "    })();\n",
              "  </script>\n",
              "</div>\n",
              "\n",
              "    </div>\n",
              "  </div>\n"
            ],
            "application/vnd.google.colaboratory.intrinsic+json": {
              "type": "dataframe",
              "variable_name": "df",
              "summary": "{\n  \"name\": \"df\",\n  \"rows\": 5611,\n  \"fields\": [\n    {\n      \"column\": \"Star\",\n      \"properties\": {\n        \"dtype\": \"number\",\n        \"std\": 1,\n        \"min\": 1,\n        \"max\": 5,\n        \"num_unique_values\": 5,\n        \"samples\": [\n          4,\n          2,\n          3\n        ],\n        \"semantic_type\": \"\",\n        \"description\": \"\"\n      }\n    },\n    {\n      \"column\": \"HelpFul\",\n      \"properties\": {\n        \"dtype\": \"number\",\n        \"std\": 4,\n        \"min\": 0,\n        \"max\": 124,\n        \"num_unique_values\": 47,\n        \"samples\": [\n          11,\n          28,\n          37\n        ],\n        \"semantic_type\": \"\",\n        \"description\": \"\"\n      }\n    },\n    {\n      \"column\": \"Title\",\n      \"properties\": {\n        \"dtype\": \"string\",\n        \"num_unique_values\": 3846,\n        \"samples\": [\n          \"Like the picture\",\n          \"Happy\",\n          \"Elegant\"\n        ],\n        \"semantic_type\": \"\",\n        \"description\": \"\"\n      }\n    },\n    {\n      \"column\": \"Review\",\n      \"properties\": {\n        \"dtype\": \"string\",\n        \"num_unique_values\": 5194,\n        \"samples\": [\n          \"pleasantly surprised beautiful curtain are.<br>i vaulted ceiling still longer.<br>not returning, i\\u2019m using there curtain wall mural still worked out.\",\n          \"look great bedroom!\",\n          \"church use back ground\"\n        ],\n        \"semantic_type\": \"\",\n        \"description\": \"\"\n      }\n    }\n  ]\n}"
            }
          },
          "metadata": {},
          "execution_count": 54
        }
      ]
    },
    {
      "cell_type": "markdown",
      "source": [
        "# **Text Visualization**"
      ],
      "metadata": {
        "id": "QHfIVhCcuiJw"
      }
    },
    {
      "cell_type": "markdown",
      "source": [
        "**Text visualization** operations are very important. Texts must first be represented numerically. In these processes, the frequencies of the words are calculated; **Column charts** and **word clouds** can be created. We can also use methods that can be used to visualize some categorical variables. First, let's create a **column chart**."
      ],
      "metadata": {
        "id": "zGDx9iG9vJg9"
      }
    },
    {
      "cell_type": "code",
      "source": [
        "tf = df[\"Review\"].apply(lambda x: pd.value_counts(x.split(\" \"))).sum(axis=0).reset_index()\n",
        "tf.columns = [\"words\", \"tf\"]\n",
        "tf[tf[\"tf\"] > 500].plot.bar(x=\"words\", y=\"tf\")\n",
        "plt.show()"
      ],
      "metadata": {
        "colab": {
          "base_uri": "https://localhost:8080/",
          "height": 497
        },
        "id": "VmJxZhVtv2gS",
        "outputId": "70a13a2a-a95a-468a-d606-77da71ddc22f"
      },
      "execution_count": 55,
      "outputs": [
        {
          "output_type": "display_data",
          "data": {
            "text/plain": [
              "<Figure size 640x480 with 1 Axes>"
            ],
            "image/png": "[encoded data removed]"
          },
          "metadata": {}
        }
      ]
    },
    {
      "cell_type": "markdown",
      "source": [
        "Let's create a **word cloud** as the final process for this part. Word cloud is the process of creating visuals in a cloud according to the frequency of occurrence of words in the relevant text. To achieve this, we must express the entire text in a single text file as a single text."
      ],
      "metadata": {
        "id": "2UkSQ2RcwdjX"
      }
    },
    {
      "cell_type": "code",
      "source": [
        "text = \" \".join(i for i in df.Review)\n",
        "\n",
        "wordcloud = WordCloud(max_font_size=50,\n",
        "                      max_words=100,\n",
        "                      background_color=\"white\").generate(text)\n",
        "plt.figure()\n",
        "plt.imshow(wordcloud, interpolation=\"bilinear\")\n",
        "plt.axis(\"off\")\n",
        "plt.show()"
      ],
      "metadata": {
        "colab": {
          "base_uri": "https://localhost:8080/",
          "height": 285
        },
        "id": "6UcqN-kyw6Ld",
        "outputId": "b0640935-7927-4392-e9f6-823647697279"
      },
      "execution_count": 56,
      "outputs": [
        {
          "output_type": "display_data",
          "data": {
            "text/plain": [
              "<Figure size 640x480 with 1 Axes>"
            ],
            "image/png": "[encoded data removed]"
          },
          "metadata": {}
        }
      ]
    },
    {
      "cell_type": "markdown",
      "source": [
        "# **Sentiment Analysis**"
      ],
      "metadata": {
        "id": "xDaogH20xuO8"
      }
    },
    {
      "cell_type": "markdown",
      "source": [
        "**Sentiment analysis** aims to express mathematically the emotional state of the texts we have. Let's imagine we have a sentence. Each word in it has positive, negative or neutral statuses. These meanings are evaluated holistically and evaluations are made as to whether the text is positive or negative.\n",
        "\n",
        "First, let's create the **SentimentIntensityAnalyzer** object defined in the NLTK package in Python."
      ],
      "metadata": {
        "id": "yvLkytw3_S9s"
      }
    },
    {
      "cell_type": "code",
      "source": [
        "nltk.download('vader_lexicon')\n",
        "sia = SentimentIntensityAnalyzer()"
      ],
      "metadata": {
        "colab": {
          "base_uri": "https://localhost:8080/"
        },
        "id": "b8DegeoVBH2J",
        "outputId": "bea00f33-fd9d-4785-cb33-f77378895071"
      },
      "execution_count": 58,
      "outputs": [
        {
          "output_type": "stream",
          "name": "stderr",
          "text": [
            "[nltk_data] Downloading package vader_lexicon to /root/nltk_data...\n"
          ]
        }
      ]
    },
    {
      "cell_type": "markdown",
      "source": [
        "Then let's follow step 2 given in the tasks section"
      ],
      "metadata": {
        "id": "3vWiELx-BgP7"
      }
    },
    {
      "cell_type": "code",
      "source": [
        "df[\"Review\"][0:10].apply(lambda x: sia.polarity_scores(x))\n",
        "\n",
        "df[\"Review\"][0:10].apply(lambda x: sia.polarity_scores(x)[\"compound\"])\n",
        "\n",
        "df[\"Review\"][0:10].apply(lambda x: \"pos\" if sia.polarity_scores(x)[\"compound\"] > 0 else \"neg\")\n",
        "\n",
        "df[\"Sentiment_Label\"] = df[\"Review\"].apply(lambda x: \"pos\" if sia.polarity_scores(x)[\"compound\"] > 0 else \"neg\")"
      ],
      "metadata": {
        "id": "7Ccx-CI9Budg"
      },
      "execution_count": 60,
      "outputs": []
    },
    {
      "cell_type": "code",
      "source": [
        "df.groupby(\"Sentiment_Label\")[\"Star\"].mean()"
      ],
      "metadata": {
        "colab": {
          "base_uri": "https://localhost:8080/"
        },
        "id": "5sSwbfl1B5sY",
        "outputId": "be6f2d35-be0f-413f-c50a-3a5a5896d8a9"
      },
      "execution_count": 61,
      "outputs": [
        {
          "output_type": "execute_result",
          "data": {
            "text/plain": [
              "Sentiment_Label\n",
              "neg   3.455\n",
              "pos   4.569\n",
              "Name: Star, dtype: float64"
            ]
          },
          "metadata": {},
          "execution_count": 61
        }
      ]
    },
    {
      "cell_type": "markdown",
      "source": [
        "**Note:** By tagging comments with SentimentIntensityAnalyzer, the dependent variable for the comment classification machine learning model was created."
      ],
      "metadata": {
        "id": "XlCY4xlzB63-"
      }
    },
    {
      "cell_type": "markdown",
      "source": [
        "# **Preparation for Sentiment Modeling**"
      ],
      "metadata": {
        "id": "rT0FECp5CDYd"
      }
    },
    {
      "cell_type": "markdown",
      "source": [
        "Let's imagine that we have established a text classification model. Let's imagine that when various comments are asked to this model, we want to predict whether the comments are positive or negative. Here we move to a binary classification problem. This transition is very important. Here we have a binary classification problem that we want to model. We can perform polarity scoring with the **unsupervised learning** method. We create an independent variable by classifying those greater than a certain threshold as 1, and those less than a certain threshold as 0. Thus, we switch to **supervised learning**.\n",
        "\n",
        "Before starting the modeling process, let's briefly talk about the **\"Counts Vectors\"** and **\"TF-IDF\"** methods to create numerical representations of our text."
      ],
      "metadata": {
        "id": "8MShDAgtCFPH"
      }
    },
    {
      "cell_type": "markdown",
      "source": [
        "## **Count Vectors**"
      ],
      "metadata": {
        "id": "4keiJ031FvHF"
      }
    },
    {
      "cell_type": "markdown",
      "source": [
        "We need to create independent variables of the texts we have. The most important stage of natural language processing studies is to represent texts numerically. In other words, it is the vectorization of words.\n",
        "\n",
        "Some commonly used word vector creation methods are:\n",
        "\n",
        "* Count Vectors: Frequency based\n",
        "* TF-IDF Vectors: Normalized frequency bases\n",
        "* Word Embeddings : (Word2Vec, GloVe, BERT ...)\n",
        "\n",
        "These methods are for computers to apply mathematical operations to texts in the world of linear algebra.\n",
        "\n",
        "**Count Vectors** method is the process of extracting the frequencies of words."
      ],
      "metadata": {
        "id": "kfKRqSsVFw7V"
      }
    },
    {
      "cell_type": "markdown",
      "source": [
        "## **TF-IDF Method**"
      ],
      "metadata": {
        "id": "RB4yIRITMeVV"
      }
    },
    {
      "cell_type": "markdown",
      "source": [
        "The TF-IDF method is a normalized, standardized word vector extraction method to eliminate some of the biases introduced by the Count Vectors method. It is a standardization process focusing on the frequency of occurrence of words in documents and the frequency of occurrence of words in the entire corpus.\n",
        "\n",
        "The **TF-IDF** method uses the Count Vectors method to express texts numerically. The Count Vectors method may create biases in favor of words with high frequencies and against the other class. To eliminate the bias problem, the TF-IDF method first calculates the frequencies of all words and calculates the **TF-IDF score** by considering the weight of these frequencies in the documents and the weight of the words in the whole corpus."
      ],
      "metadata": {
        "id": "wPtIMdinMhBJ"
      }
    },
    {
      "cell_type": "markdown",
      "source": [
        "## **Preparation**"
      ],
      "metadata": {
        "id": "2U-o9AH-OvIR"
      }
    },
    {
      "cell_type": "markdown",
      "source": [
        "Let's separate the data as a train test by determining the dependent and independent variables. Then, let's convert the representation shapes to numerical so that we can give the data to the Machine Learning model using **TfidfVectorizer**."
      ],
      "metadata": {
        "id": "MedbHyzJO4fc"
      }
    },
    {
      "cell_type": "code",
      "source": [
        "X_train, X_test, y_train, y_test = train_test_split(df[\"Review\"], df[\"Sentiment_Label\"], random_state=5)"
      ],
      "metadata": {
        "id": "7XqYaofsPC_R"
      },
      "execution_count": 63,
      "outputs": []
    },
    {
      "cell_type": "code",
      "source": [
        "tf_idf_word_vectorizer = TfidfVectorizer().fit(X_train)\n",
        "x_train_tf_idf_word = tf_idf_word_vectorizer.transform(X_train)\n",
        "x_test_tf_idf_word = tf_idf_word_vectorizer.transform(X_test)"
      ],
      "metadata": {
        "id": "gfft34PsPddP"
      },
      "execution_count": 64,
      "outputs": []
    },
    {
      "cell_type": "markdown",
      "source": [
        "# **Sentiment Modeling with Random Forests and Logistic Regression**"
      ],
      "metadata": {
        "id": "XVt6oycsQFKD"
      }
    },
    {
      "cell_type": "markdown",
      "source": [
        "Let's perform the fit process with the training data by establishing the logistic regression model."
      ],
      "metadata": {
        "id": "cJcLJ6i_QMhV"
      }
    },
    {
      "cell_type": "code",
      "source": [
        "log_model = LogisticRegression().fit(x_train_tf_idf_word, y_train)"
      ],
      "metadata": {
        "id": "iI6reMDFQfBY"
      },
      "execution_count": 65,
      "outputs": []
    },
    {
      "cell_type": "markdown",
      "source": [
        "Let's make a prediction with the model we have built."
      ],
      "metadata": {
        "id": "Zp6YFdJDQjSp"
      }
    },
    {
      "cell_type": "code",
      "source": [
        "y_pred = log_model.predict(x_test_tf_idf_word)"
      ],
      "metadata": {
        "id": "4Yh3itClQ04U"
      },
      "execution_count": 66,
      "outputs": []
    },
    {
      "cell_type": "code",
      "source": [
        "print(classification_report(y_pred, y_test))"
      ],
      "metadata": {
        "colab": {
          "base_uri": "https://localhost:8080/"
        },
        "id": "4fdrI9ntQ3c3",
        "outputId": "7ce36fdc-cd91-46a1-f701-e34543466af2"
      },
      "execution_count": 70,
      "outputs": [
        {
          "output_type": "stream",
          "name": "stdout",
          "text": [
            "              precision    recall  f1-score   support\n",
            "\n",
            "         neg       0.31      0.92      0.46        63\n",
            "         pos       1.00      0.90      0.95      1340\n",
            "\n",
            "    accuracy                           0.90      1403\n",
            "   macro avg       0.65      0.91      0.70      1403\n",
            "weighted avg       0.96      0.90      0.92      1403\n",
            "\n"
          ]
        }
      ]
    },
    {
      "cell_type": "markdown",
      "source": [
        "Let's calculate the average accuracy value using the cross validation function."
      ],
      "metadata": {
        "id": "4nQA0WixRHnx"
      }
    },
    {
      "cell_type": "code",
      "source": [
        "cross_val_score(log_model, x_test_tf_idf_word, y_test, cv=10).mean()"
      ],
      "metadata": {
        "colab": {
          "base_uri": "https://localhost:8080/"
        },
        "id": "LJFnvPvHRBdz",
        "outputId": "3f145d26-c052-4c57-fcd1-2b05f6f7012e"
      },
      "execution_count": 71,
      "outputs": [
        {
          "output_type": "execute_result",
          "data": {
            "text/plain": [
              "0.8759827760891591"
            ]
          },
          "metadata": {},
          "execution_count": 71
        }
      ]
    },
    {
      "cell_type": "markdown",
      "source": [
        "Let's ask the model again by selecting a random sample from the data. This time let's use the **Count Vectors** method. Let's show the prediction result by performing the fit and transform operations again."
      ],
      "metadata": {
        "id": "XyGwCCj0TEqF"
      }
    },
    {
      "cell_type": "code",
      "source": [
        "random_review = pd.Series(df[\"Review\"].sample(1).values)\n",
        "new_comment = CountVectorizer().fit(X_train).transform(random_review)\n",
        "pred = log_model.predict(new_comment)\n",
        "print(f'Review:  {random_review[0]} \\n Prediction: {pred}')"
      ],
      "metadata": {
        "colab": {
          "base_uri": "https://localhost:8080/"
        },
        "id": "RaNxS3nxTGJa",
        "outputId": "98ab36f6-044e-41cf-cb3d-97088125662e"
      },
      "execution_count": 74,
      "outputs": [
        {
          "output_type": "stream",
          "name": "stdout",
          "text": [
            "Review:  love curtains, make feel like i'm beach hawaii,i use living room dinning room. family room, there's nothing dislike,love them. \n",
            " Prediction: ['pos']\n"
          ]
        }
      ]
    },
    {
      "cell_type": "markdown",
      "source": [
        "Finally, let's build the Random Forests model and show the cross validation results."
      ],
      "metadata": {
        "id": "lewmXahCTpip"
      }
    },
    {
      "cell_type": "code",
      "source": [
        "rf_model = RandomForestClassifier().fit(x_train_tf_idf_word, y_train)"
      ],
      "metadata": {
        "id": "rp2mpRYdTqNd"
      },
      "execution_count": 75,
      "outputs": []
    },
    {
      "cell_type": "code",
      "source": [
        "cross_val_score(rf_model, x_test_tf_idf_word, y_test, cv=10, n_jobs=-1).mean()"
      ],
      "metadata": {
        "colab": {
          "base_uri": "https://localhost:8080/"
        },
        "id": "AJYnAsQYTt9t",
        "outputId": "1f6800dc-046e-42f1-c3e2-ee04ac8afdfe"
      },
      "execution_count": 76,
      "outputs": [
        {
          "output_type": "execute_result",
          "data": {
            "text/plain": [
              "0.9016312056737588"
            ]
          },
          "metadata": {},
          "execution_count": 76
        }
      ]
    }
  ]
}
